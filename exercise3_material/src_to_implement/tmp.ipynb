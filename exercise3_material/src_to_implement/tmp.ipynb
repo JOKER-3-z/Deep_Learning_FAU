{
 "cells": [
  {
   "cell_type": "code",
   "execution_count": 1,
   "metadata": {},
   "outputs": [
    {
     "ename": "ValueError",
     "evalue": "could not broadcast input array from shape (14,) into shape (13,)",
     "output_type": "error",
     "traceback": [
      "\u001b[1;31m---------------------------------------------------------------------------\u001b[0m",
      "\u001b[1;31mValueError\u001b[0m                                Traceback (most recent call last)",
      "Cell \u001b[1;32mIn[1], line 50\u001b[0m\n\u001b[0;32m     48\u001b[0m t1 \u001b[38;5;241m=\u001b[39m TestRNN()\n\u001b[0;32m     49\u001b[0m t1\u001b[38;5;241m.\u001b[39msetUp()\n\u001b[1;32m---> 50\u001b[0m \u001b[43mt1\u001b[49m\u001b[38;5;241;43m.\u001b[39;49m\u001b[43mtest_gradient\u001b[49m\u001b[43m(\u001b[49m\u001b[43m)\u001b[49m\n\u001b[0;32m     51\u001b[0m t1\u001b[38;5;241m.\u001b[39mtest_gradient_weights()\n",
      "Cell \u001b[1;32mIn[1], line 37\u001b[0m, in \u001b[0;36mTestRNN.test_gradient\u001b[1;34m(self)\u001b[0m\n\u001b[0;32m     35\u001b[0m layers\u001b[38;5;241m.\u001b[39mappend(layer)\n\u001b[0;32m     36\u001b[0m layers\u001b[38;5;241m.\u001b[39mappend(L2Loss())\n\u001b[1;32m---> 37\u001b[0m difference \u001b[38;5;241m=\u001b[39m \u001b[43mHelpers\u001b[49m\u001b[38;5;241;43m.\u001b[39;49m\u001b[43mgradient_check\u001b[49m\u001b[43m(\u001b[49m\u001b[43mlayers\u001b[49m\u001b[43m,\u001b[49m\u001b[43m \u001b[49m\u001b[43minput_tensor\u001b[49m\u001b[43m,\u001b[49m\u001b[43m \u001b[49m\u001b[38;5;28;43mself\u001b[39;49m\u001b[38;5;241;43m.\u001b[39;49m\u001b[43mlabel_tensor\u001b[49m\u001b[43m)\u001b[49m\n\u001b[0;32m     38\u001b[0m \u001b[38;5;28mprint\u001b[39m(np\u001b[38;5;241m.\u001b[39msum(difference), \u001b[38;5;241m1e-4\u001b[39m)\n",
      "File \u001b[1;32md:\\CourseSpace\\DL\\exercise3_material\\src_to_implement\\Layers\\Helpers.py:26\u001b[0m, in \u001b[0;36mgradient_check\u001b[1;34m(layers, input_tensor, label_tensor, seed)\u001b[0m\n\u001b[0;32m     24\u001b[0m error_tensor \u001b[38;5;241m=\u001b[39m layers[\u001b[38;5;241m-\u001b[39m\u001b[38;5;241m1\u001b[39m]\u001b[38;5;241m.\u001b[39mbackward(label_tensor)\n\u001b[0;32m     25\u001b[0m \u001b[38;5;28;01mfor\u001b[39;00m layer \u001b[38;5;129;01min\u001b[39;00m \u001b[38;5;28mreversed\u001b[39m(layers[:\u001b[38;5;241m-\u001b[39m\u001b[38;5;241m1\u001b[39m]):\n\u001b[1;32m---> 26\u001b[0m     error_tensor \u001b[38;5;241m=\u001b[39m \u001b[43mlayer\u001b[49m\u001b[38;5;241;43m.\u001b[39;49m\u001b[43mbackward\u001b[49m\u001b[43m(\u001b[49m\u001b[43merror_tensor\u001b[49m\u001b[43m)\u001b[49m\n\u001b[0;32m     28\u001b[0m it \u001b[38;5;241m=\u001b[39m np\u001b[38;5;241m.\u001b[39mnditer(input_tensor, flags\u001b[38;5;241m=\u001b[39m[\u001b[38;5;124m'\u001b[39m\u001b[38;5;124mmulti_index\u001b[39m\u001b[38;5;124m'\u001b[39m])\n\u001b[0;32m     29\u001b[0m \u001b[38;5;28;01mwhile\u001b[39;00m \u001b[38;5;129;01mnot\u001b[39;00m it\u001b[38;5;241m.\u001b[39mfinished:\n",
      "File \u001b[1;32md:\\CourseSpace\\DL\\exercise3_material\\src_to_implement\\Layers\\RNN.py:68\u001b[0m, in \u001b[0;36mRNN.backward\u001b[1;34m(self, error_tensor)\u001b[0m\n\u001b[0;32m     65\u001b[0m     \u001b[38;5;28mself\u001b[39m\u001b[38;5;241m.\u001b[39mgradient_weights[\u001b[38;5;241m-\u001b[39m\u001b[38;5;241m1\u001b[39m, :] \u001b[38;5;241m+\u001b[39m\u001b[38;5;241m=\u001b[39m grad_hidden_tanh\u001b[38;5;241m.\u001b[39mflatten()\n\u001b[0;32m     67\u001b[0m     \u001b[38;5;66;03m#grad_input[t] = np.dot(grad_hidden_tanh, self.weights[self.hidden_size:self.hidden_size + self.input_size, :].T)\u001b[39;00m\n\u001b[1;32m---> 68\u001b[0m     \u001b[43mgrad_input\u001b[49m\u001b[43m[\u001b[49m\u001b[43mt\u001b[49m\u001b[43m]\u001b[49m \u001b[38;5;241m=\u001b[39m np\u001b[38;5;241m.\u001b[39mdot(grad_hidden_tanh, \u001b[38;5;28mself\u001b[39m\u001b[38;5;241m.\u001b[39mweights[\u001b[38;5;28mself\u001b[39m\u001b[38;5;241m.\u001b[39mhidden_size:, :]\u001b[38;5;241m.\u001b[39mT)\n\u001b[0;32m     69\u001b[0m     grad_next_hidden \u001b[38;5;241m=\u001b[39m np\u001b[38;5;241m.\u001b[39mdot(grad_hidden_tanh, \u001b[38;5;28mself\u001b[39m\u001b[38;5;241m.\u001b[39mweights[:\u001b[38;5;28mself\u001b[39m\u001b[38;5;241m.\u001b[39mhidden_size, :]\u001b[38;5;241m.\u001b[39mT)\n\u001b[0;32m     71\u001b[0m \u001b[38;5;28;01mif\u001b[39;00m \u001b[38;5;28mself\u001b[39m\u001b[38;5;241m.\u001b[39moptimizer \u001b[38;5;129;01mis\u001b[39;00m \u001b[38;5;129;01mnot\u001b[39;00m \u001b[38;5;28;01mNone\u001b[39;00m:\n",
      "\u001b[1;31mValueError\u001b[0m: could not broadcast input array from shape (14,) into shape (13,)"
     ]
    }
   ],
   "source": [
    "import numpy as np\n",
    "import unittest\n",
    "from Layers import RNN,Initializers\n",
    "from NeuralNetworkTests import TestFullyConnected\n",
    "from Optimization import Optimizers\n",
    "from Layers import Helpers,FullyConnected\n",
    "class L2Loss:\n",
    "\n",
    "    def __init__(self):\n",
    "        self.input_tensor = None\n",
    "\n",
    "    def forward(self, input_tensor, label_tensor):\n",
    "        self.input_tensor = input_tensor\n",
    "        return np.sum(np.square(input_tensor - label_tensor))\n",
    "\n",
    "    def backward(self, label_tensor):\n",
    "        return 2*np.subtract(self.input_tensor, label_tensor)\n",
    "class TestRNN(unittest.TestCase):\n",
    "    def setUp(self):\n",
    "        self.batch_size = 9\n",
    "        self.input_size = 13\n",
    "        self.output_size = 5\n",
    "        self.hidden_size = 7\n",
    "        self.input_tensor = np.random.rand(self.input_size, self.batch_size).T\n",
    "\n",
    "        self.categories = 4\n",
    "        self.label_tensor = np.zeros([self.categories, self.batch_size]).T\n",
    "        for i in range(self.batch_size):\n",
    "            self.label_tensor[i, np.random.randint(0, self.categories)] = 1\n",
    "    def test_gradient(self):\n",
    "        input_tensor = np.abs(np.random.random((self.input_size, self.batch_size))).T\n",
    "        layers = list()\n",
    "        layer = RNN.RNN(self.input_size, self.hidden_size, self.categories)\n",
    "        layer.initialize(Initializers.He(), Initializers.He())\n",
    "        layers.append(layer)\n",
    "        layers.append(L2Loss())\n",
    "        difference = Helpers.gradient_check(layers, input_tensor, self.label_tensor)\n",
    "        print(np.sum(difference), 1e-4)\n",
    "    def test_gradient_weights(self):\n",
    "        input_tensor = np.abs(np.random.random((self.input_size, self.batch_size))).T\n",
    "        layers = list()\n",
    "        layer = RNN.RNN(self.input_size, self.hidden_size, self.categories)\n",
    "        layer.initialize(Initializers.He(), Initializers.He())\n",
    "        layers.append(layer)\n",
    "        layers.append(L2Loss())\n",
    "        difference = Helpers.gradient_check_weights(layers, input_tensor, self.label_tensor, False)\n",
    "        print(np.sum(difference), 1e-4)\n",
    "t1 = TestRNN()\n",
    "t1.setUp()\n",
    "t1.test_gradient()\n",
    "t1.test_gradient_weights()"
   ]
  },
  {
   "cell_type": "code",
   "execution_count": 3,
   "metadata": {},
   "outputs": [
    {
     "data": {
      "text/plain": [
       "(1, 5)"
      ]
     },
     "execution_count": 3,
     "metadata": {},
     "output_type": "execute_result"
    }
   ],
   "source": [
    "n1= np.random.random([1,7])\n",
    "n2 = np.random.random([7,5])\n",
    "np.dot(n1,n2).shape"
   ]
  },
  {
   "cell_type": "code",
   "execution_count": 7,
   "metadata": {},
   "outputs": [
    {
     "name": "stdout",
     "output_type": "stream",
     "text": [
      "(2, 3)\n",
      "[[1 2 3]\n",
      " [1 2 3]]\n"
     ]
    },
    {
     "data": {
      "text/plain": [
       "array([[1, 2],\n",
       "       [3, 1],\n",
       "       [2, 3]])"
      ]
     },
     "execution_count": 7,
     "metadata": {},
     "output_type": "execute_result"
    }
   ],
   "source": []
  }
 ],
 "metadata": {
  "kernelspec": {
   "display_name": "courseUse",
   "language": "python",
   "name": "python3"
  },
  "language_info": {
   "codemirror_mode": {
    "name": "ipython",
    "version": 3
   },
   "file_extension": ".py",
   "mimetype": "text/x-python",
   "name": "python",
   "nbconvert_exporter": "python",
   "pygments_lexer": "ipython3",
   "version": "3.9.20"
  }
 },
 "nbformat": 4,
 "nbformat_minor": 2
}
