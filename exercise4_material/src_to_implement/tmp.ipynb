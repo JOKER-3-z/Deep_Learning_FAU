{
 "cells": [
  {
   "cell_type": "code",
   "execution_count": 20,
   "id": "b547dba6",
   "metadata": {},
   "outputs": [
    {
     "data": {
      "text/plain": [
       "filename    images/cell1103.png\n",
       "crack                         0\n",
       "inactive                      0\n",
       "Name: 1999, dtype: object"
      ]
     },
     "execution_count": 20,
     "metadata": {},
     "output_type": "execute_result"
    }
   ],
   "source": [
    "import pandas as pd\n",
    "df = pd.read_csv('./data.csv',sep=';')\n",
    "df.iloc[1999]"
   ]
  },
  {
   "cell_type": "code",
   "execution_count": 1,
   "id": "5f36303a",
   "metadata": {},
   "outputs": [],
   "source": [
    "import unittest\n",
    "import torch as t\n",
    "import pandas as pd\n",
    "import numpy as np\n",
    "import os\n",
    "import tabulate\n",
    "import argparse\n",
    "import re\n",
    "import stat\n",
    "\n",
    "ID = 4  # identifier for dispatcher\n",
    "\n",
    "from PytorchChallengeTests import TestDataset,TestModel\n",
    "t = TestDataset()\n",
    "t.setUp()\n",
    "t.test_shape()\n",
    "t.test_normalization()\n"
   ]
  },
  {
   "cell_type": "code",
   "execution_count": 4,
   "id": "0e646c98",
   "metadata": {},
   "outputs": [
    {
     "name": "stdout",
     "output_type": "stream",
     "text": [
      "<bound method NDFrame.head of                  filename  crack  inactive\n",
      "499   images/cell0747.png      0         0\n",
      "1241  images/cell0840.png      0         0\n",
      "823   images/cell1407.png      0         0\n",
      "859   images/cell1807.png      0         0\n",
      "1094  images/cell0927.png      0         0\n",
      "...                   ...    ...       ...\n",
      "1148  images/cell1640.png      0         0\n",
      "592   images/cell1445.png      0         0\n",
      "1301  images/cell0754.png      0         0\n",
      "752   images/cell0175.png      0         0\n",
      "938   images/cell0907.png      0         0\n",
      "\n",
      "[1600 rows x 3 columns]>\n"
     ]
    }
   ],
   "source": [
    "import pandas as pd\n",
    "from sklearn.model_selection import train_test_split\n",
    "\n",
    "    # load the data from the csv file and perform a train-test-split\n",
    "csv_file = \"./data.csv\"\n",
    "df = pd.read_csv(csv_file,sep=';')\n",
    "    # this can be accomplished using the already imported pandas and sklearn.model_selection modules\n",
    "train_df,val_df = train_test_split(df,test_size=0.2,random_state=42, stratify=df[['crack', 'inactive']])\n",
    "print(train_df.head)"
   ]
  }
 ],
 "metadata": {
  "kernelspec": {
   "display_name": "DL",
   "language": "python",
   "name": "python3"
  },
  "language_info": {
   "codemirror_mode": {
    "name": "ipython",
    "version": 3
   },
   "file_extension": ".py",
   "mimetype": "text/x-python",
   "name": "python",
   "nbconvert_exporter": "python",
   "pygments_lexer": "ipython3",
   "version": "3.11.10"
  }
 },
 "nbformat": 4,
 "nbformat_minor": 5
}
